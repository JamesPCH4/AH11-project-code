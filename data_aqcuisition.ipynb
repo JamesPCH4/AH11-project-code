{
  "nbformat": 4,
  "nbformat_minor": 0,
  "metadata": {
    "colab": {
      "provenance": []
    },
    "kernelspec": {
      "name": "python3",
      "display_name": "Python 3"
    },
    "language_info": {
      "name": "python"
    },
    "widgets": {
      "application/vnd.jupyter.widget-state+json": {
        "5e3be6f1d85249fc8d436785cd3930b1": {
          "model_module": "@jupyter-widgets/controls",
          "model_name": "HBoxModel",
          "model_module_version": "1.5.0",
          "state": {
            "_dom_classes": [],
            "_model_module": "@jupyter-widgets/controls",
            "_model_module_version": "1.5.0",
            "_model_name": "HBoxModel",
            "_view_count": null,
            "_view_module": "@jupyter-widgets/controls",
            "_view_module_version": "1.5.0",
            "_view_name": "HBoxView",
            "box_style": "",
            "children": [
              "IPY_MODEL_a8d79cefe61149b5826a6f584d9dcba8",
              "IPY_MODEL_52df0e8c59d74c8a99b69a9afc4db156",
              "IPY_MODEL_9470f338509344689888882567e99d78"
            ],
            "layout": "IPY_MODEL_ab1d9eb521bf44b9910a588d5bdbf54d"
          }
        },
        "a8d79cefe61149b5826a6f584d9dcba8": {
          "model_module": "@jupyter-widgets/controls",
          "model_name": "HTMLModel",
          "model_module_version": "1.5.0",
          "state": {
            "_dom_classes": [],
            "_model_module": "@jupyter-widgets/controls",
            "_model_module_version": "1.5.0",
            "_model_name": "HTMLModel",
            "_view_count": null,
            "_view_module": "@jupyter-widgets/controls",
            "_view_module_version": "1.5.0",
            "_view_name": "HTMLView",
            "description": "",
            "description_tooltip": null,
            "layout": "IPY_MODEL_aa98756eb29049bc88411086b0e9f39b",
            "placeholder": "​",
            "style": "IPY_MODEL_704fd4e29cb54daf8f3943de80313cdb",
            "value": "Retrieving SummaryDoc documents: 100%"
          }
        },
        "52df0e8c59d74c8a99b69a9afc4db156": {
          "model_module": "@jupyter-widgets/controls",
          "model_name": "FloatProgressModel",
          "model_module_version": "1.5.0",
          "state": {
            "_dom_classes": [],
            "_model_module": "@jupyter-widgets/controls",
            "_model_module_version": "1.5.0",
            "_model_name": "FloatProgressModel",
            "_view_count": null,
            "_view_module": "@jupyter-widgets/controls",
            "_view_module_version": "1.5.0",
            "_view_name": "ProgressView",
            "bar_style": "success",
            "description": "",
            "description_tooltip": null,
            "layout": "IPY_MODEL_d7dc2268678d41cca8341a092865af2a",
            "max": 21576,
            "min": 0,
            "orientation": "horizontal",
            "style": "IPY_MODEL_1b86a464bdf54284ac20dcfe6b2fa611",
            "value": 21576
          }
        },
        "9470f338509344689888882567e99d78": {
          "model_module": "@jupyter-widgets/controls",
          "model_name": "HTMLModel",
          "model_module_version": "1.5.0",
          "state": {
            "_dom_classes": [],
            "_model_module": "@jupyter-widgets/controls",
            "_model_module_version": "1.5.0",
            "_model_name": "HTMLModel",
            "_view_count": null,
            "_view_module": "@jupyter-widgets/controls",
            "_view_module_version": "1.5.0",
            "_view_name": "HTMLView",
            "description": "",
            "description_tooltip": null,
            "layout": "IPY_MODEL_a56043d48b2845b9a8be6f1adb31fd36",
            "placeholder": "​",
            "style": "IPY_MODEL_a9c38ea6db9242ebb49828f2d5dbcb2c",
            "value": " 21576/21576 [06:48&lt;00:00, 118.60it/s]"
          }
        },
        "ab1d9eb521bf44b9910a588d5bdbf54d": {
          "model_module": "@jupyter-widgets/base",
          "model_name": "LayoutModel",
          "model_module_version": "1.2.0",
          "state": {
            "_model_module": "@jupyter-widgets/base",
            "_model_module_version": "1.2.0",
            "_model_name": "LayoutModel",
            "_view_count": null,
            "_view_module": "@jupyter-widgets/base",
            "_view_module_version": "1.2.0",
            "_view_name": "LayoutView",
            "align_content": null,
            "align_items": null,
            "align_self": null,
            "border": null,
            "bottom": null,
            "display": null,
            "flex": null,
            "flex_flow": null,
            "grid_area": null,
            "grid_auto_columns": null,
            "grid_auto_flow": null,
            "grid_auto_rows": null,
            "grid_column": null,
            "grid_gap": null,
            "grid_row": null,
            "grid_template_areas": null,
            "grid_template_columns": null,
            "grid_template_rows": null,
            "height": null,
            "justify_content": null,
            "justify_items": null,
            "left": null,
            "margin": null,
            "max_height": null,
            "max_width": null,
            "min_height": null,
            "min_width": null,
            "object_fit": null,
            "object_position": null,
            "order": null,
            "overflow": null,
            "overflow_x": null,
            "overflow_y": null,
            "padding": null,
            "right": null,
            "top": null,
            "visibility": null,
            "width": null
          }
        },
        "aa98756eb29049bc88411086b0e9f39b": {
          "model_module": "@jupyter-widgets/base",
          "model_name": "LayoutModel",
          "model_module_version": "1.2.0",
          "state": {
            "_model_module": "@jupyter-widgets/base",
            "_model_module_version": "1.2.0",
            "_model_name": "LayoutModel",
            "_view_count": null,
            "_view_module": "@jupyter-widgets/base",
            "_view_module_version": "1.2.0",
            "_view_name": "LayoutView",
            "align_content": null,
            "align_items": null,
            "align_self": null,
            "border": null,
            "bottom": null,
            "display": null,
            "flex": null,
            "flex_flow": null,
            "grid_area": null,
            "grid_auto_columns": null,
            "grid_auto_flow": null,
            "grid_auto_rows": null,
            "grid_column": null,
            "grid_gap": null,
            "grid_row": null,
            "grid_template_areas": null,
            "grid_template_columns": null,
            "grid_template_rows": null,
            "height": null,
            "justify_content": null,
            "justify_items": null,
            "left": null,
            "margin": null,
            "max_height": null,
            "max_width": null,
            "min_height": null,
            "min_width": null,
            "object_fit": null,
            "object_position": null,
            "order": null,
            "overflow": null,
            "overflow_x": null,
            "overflow_y": null,
            "padding": null,
            "right": null,
            "top": null,
            "visibility": null,
            "width": null
          }
        },
        "704fd4e29cb54daf8f3943de80313cdb": {
          "model_module": "@jupyter-widgets/controls",
          "model_name": "DescriptionStyleModel",
          "model_module_version": "1.5.0",
          "state": {
            "_model_module": "@jupyter-widgets/controls",
            "_model_module_version": "1.5.0",
            "_model_name": "DescriptionStyleModel",
            "_view_count": null,
            "_view_module": "@jupyter-widgets/base",
            "_view_module_version": "1.2.0",
            "_view_name": "StyleView",
            "description_width": ""
          }
        },
        "d7dc2268678d41cca8341a092865af2a": {
          "model_module": "@jupyter-widgets/base",
          "model_name": "LayoutModel",
          "model_module_version": "1.2.0",
          "state": {
            "_model_module": "@jupyter-widgets/base",
            "_model_module_version": "1.2.0",
            "_model_name": "LayoutModel",
            "_view_count": null,
            "_view_module": "@jupyter-widgets/base",
            "_view_module_version": "1.2.0",
            "_view_name": "LayoutView",
            "align_content": null,
            "align_items": null,
            "align_self": null,
            "border": null,
            "bottom": null,
            "display": null,
            "flex": null,
            "flex_flow": null,
            "grid_area": null,
            "grid_auto_columns": null,
            "grid_auto_flow": null,
            "grid_auto_rows": null,
            "grid_column": null,
            "grid_gap": null,
            "grid_row": null,
            "grid_template_areas": null,
            "grid_template_columns": null,
            "grid_template_rows": null,
            "height": null,
            "justify_content": null,
            "justify_items": null,
            "left": null,
            "margin": null,
            "max_height": null,
            "max_width": null,
            "min_height": null,
            "min_width": null,
            "object_fit": null,
            "object_position": null,
            "order": null,
            "overflow": null,
            "overflow_x": null,
            "overflow_y": null,
            "padding": null,
            "right": null,
            "top": null,
            "visibility": null,
            "width": null
          }
        },
        "1b86a464bdf54284ac20dcfe6b2fa611": {
          "model_module": "@jupyter-widgets/controls",
          "model_name": "ProgressStyleModel",
          "model_module_version": "1.5.0",
          "state": {
            "_model_module": "@jupyter-widgets/controls",
            "_model_module_version": "1.5.0",
            "_model_name": "ProgressStyleModel",
            "_view_count": null,
            "_view_module": "@jupyter-widgets/base",
            "_view_module_version": "1.2.0",
            "_view_name": "StyleView",
            "bar_color": null,
            "description_width": ""
          }
        },
        "a56043d48b2845b9a8be6f1adb31fd36": {
          "model_module": "@jupyter-widgets/base",
          "model_name": "LayoutModel",
          "model_module_version": "1.2.0",
          "state": {
            "_model_module": "@jupyter-widgets/base",
            "_model_module_version": "1.2.0",
            "_model_name": "LayoutModel",
            "_view_count": null,
            "_view_module": "@jupyter-widgets/base",
            "_view_module_version": "1.2.0",
            "_view_name": "LayoutView",
            "align_content": null,
            "align_items": null,
            "align_self": null,
            "border": null,
            "bottom": null,
            "display": null,
            "flex": null,
            "flex_flow": null,
            "grid_area": null,
            "grid_auto_columns": null,
            "grid_auto_flow": null,
            "grid_auto_rows": null,
            "grid_column": null,
            "grid_gap": null,
            "grid_row": null,
            "grid_template_areas": null,
            "grid_template_columns": null,
            "grid_template_rows": null,
            "height": null,
            "justify_content": null,
            "justify_items": null,
            "left": null,
            "margin": null,
            "max_height": null,
            "max_width": null,
            "min_height": null,
            "min_width": null,
            "object_fit": null,
            "object_position": null,
            "order": null,
            "overflow": null,
            "overflow_x": null,
            "overflow_y": null,
            "padding": null,
            "right": null,
            "top": null,
            "visibility": null,
            "width": null
          }
        },
        "a9c38ea6db9242ebb49828f2d5dbcb2c": {
          "model_module": "@jupyter-widgets/controls",
          "model_name": "DescriptionStyleModel",
          "model_module_version": "1.5.0",
          "state": {
            "_model_module": "@jupyter-widgets/controls",
            "_model_module_version": "1.5.0",
            "_model_name": "DescriptionStyleModel",
            "_view_count": null,
            "_view_module": "@jupyter-widgets/base",
            "_view_module_version": "1.2.0",
            "_view_name": "StyleView",
            "description_width": ""
          }
        },
        "c65201e7efab43d88b7bf607f33991e7": {
          "model_module": "@jupyter-widgets/controls",
          "model_name": "HBoxModel",
          "model_module_version": "1.5.0",
          "state": {
            "_dom_classes": [],
            "_model_module": "@jupyter-widgets/controls",
            "_model_module_version": "1.5.0",
            "_model_name": "HBoxModel",
            "_view_count": null,
            "_view_module": "@jupyter-widgets/controls",
            "_view_module_version": "1.5.0",
            "_view_name": "HBoxView",
            "box_style": "",
            "children": [
              "IPY_MODEL_1d518868702d4189a9e563bf40beb6cd",
              "IPY_MODEL_3e8ab6b50a5a401fa347ca2a84cd86b8",
              "IPY_MODEL_dcef8c9545ed4c218fa03d9ab2c698df"
            ],
            "layout": "IPY_MODEL_692c33ae3ea74f53975c933d7ce45d3c"
          }
        },
        "1d518868702d4189a9e563bf40beb6cd": {
          "model_module": "@jupyter-widgets/controls",
          "model_name": "HTMLModel",
          "model_module_version": "1.5.0",
          "state": {
            "_dom_classes": [],
            "_model_module": "@jupyter-widgets/controls",
            "_model_module_version": "1.5.0",
            "_model_name": "HTMLModel",
            "_view_count": null,
            "_view_module": "@jupyter-widgets/controls",
            "_view_module_version": "1.5.0",
            "_view_name": "HTMLView",
            "description": "",
            "description_tooltip": null,
            "layout": "IPY_MODEL_1c24b481ca8d44b1a26798590cf69e9f",
            "placeholder": "​",
            "style": "IPY_MODEL_954a8f78e5d24b5880a66b444f69e0a0",
            "value": "Retrieving SummaryDoc documents: 100%"
          }
        },
        "3e8ab6b50a5a401fa347ca2a84cd86b8": {
          "model_module": "@jupyter-widgets/controls",
          "model_name": "FloatProgressModel",
          "model_module_version": "1.5.0",
          "state": {
            "_dom_classes": [],
            "_model_module": "@jupyter-widgets/controls",
            "_model_module_version": "1.5.0",
            "_model_name": "FloatProgressModel",
            "_view_count": null,
            "_view_module": "@jupyter-widgets/controls",
            "_view_module_version": "1.5.0",
            "_view_name": "ProgressView",
            "bar_style": "success",
            "description": "",
            "description_tooltip": null,
            "layout": "IPY_MODEL_2c1e378b31bd4d9a96a7a41afdf10f20",
            "max": 3,
            "min": 0,
            "orientation": "horizontal",
            "style": "IPY_MODEL_71f9cfffc05746938c84122094353b02",
            "value": 3
          }
        },
        "dcef8c9545ed4c218fa03d9ab2c698df": {
          "model_module": "@jupyter-widgets/controls",
          "model_name": "HTMLModel",
          "model_module_version": "1.5.0",
          "state": {
            "_dom_classes": [],
            "_model_module": "@jupyter-widgets/controls",
            "_model_module_version": "1.5.0",
            "_model_name": "HTMLModel",
            "_view_count": null,
            "_view_module": "@jupyter-widgets/controls",
            "_view_module_version": "1.5.0",
            "_view_name": "HTMLView",
            "description": "",
            "description_tooltip": null,
            "layout": "IPY_MODEL_d262e1b344414a9d965d226400636318",
            "placeholder": "​",
            "style": "IPY_MODEL_b596091786794e62826ade6a8713f3db",
            "value": " 3/3 [00:00&lt;00:00, 71.41it/s]"
          }
        },
        "692c33ae3ea74f53975c933d7ce45d3c": {
          "model_module": "@jupyter-widgets/base",
          "model_name": "LayoutModel",
          "model_module_version": "1.2.0",
          "state": {
            "_model_module": "@jupyter-widgets/base",
            "_model_module_version": "1.2.0",
            "_model_name": "LayoutModel",
            "_view_count": null,
            "_view_module": "@jupyter-widgets/base",
            "_view_module_version": "1.2.0",
            "_view_name": "LayoutView",
            "align_content": null,
            "align_items": null,
            "align_self": null,
            "border": null,
            "bottom": null,
            "display": null,
            "flex": null,
            "flex_flow": null,
            "grid_area": null,
            "grid_auto_columns": null,
            "grid_auto_flow": null,
            "grid_auto_rows": null,
            "grid_column": null,
            "grid_gap": null,
            "grid_row": null,
            "grid_template_areas": null,
            "grid_template_columns": null,
            "grid_template_rows": null,
            "height": null,
            "justify_content": null,
            "justify_items": null,
            "left": null,
            "margin": null,
            "max_height": null,
            "max_width": null,
            "min_height": null,
            "min_width": null,
            "object_fit": null,
            "object_position": null,
            "order": null,
            "overflow": null,
            "overflow_x": null,
            "overflow_y": null,
            "padding": null,
            "right": null,
            "top": null,
            "visibility": null,
            "width": null
          }
        },
        "1c24b481ca8d44b1a26798590cf69e9f": {
          "model_module": "@jupyter-widgets/base",
          "model_name": "LayoutModel",
          "model_module_version": "1.2.0",
          "state": {
            "_model_module": "@jupyter-widgets/base",
            "_model_module_version": "1.2.0",
            "_model_name": "LayoutModel",
            "_view_count": null,
            "_view_module": "@jupyter-widgets/base",
            "_view_module_version": "1.2.0",
            "_view_name": "LayoutView",
            "align_content": null,
            "align_items": null,
            "align_self": null,
            "border": null,
            "bottom": null,
            "display": null,
            "flex": null,
            "flex_flow": null,
            "grid_area": null,
            "grid_auto_columns": null,
            "grid_auto_flow": null,
            "grid_auto_rows": null,
            "grid_column": null,
            "grid_gap": null,
            "grid_row": null,
            "grid_template_areas": null,
            "grid_template_columns": null,
            "grid_template_rows": null,
            "height": null,
            "justify_content": null,
            "justify_items": null,
            "left": null,
            "margin": null,
            "max_height": null,
            "max_width": null,
            "min_height": null,
            "min_width": null,
            "object_fit": null,
            "object_position": null,
            "order": null,
            "overflow": null,
            "overflow_x": null,
            "overflow_y": null,
            "padding": null,
            "right": null,
            "top": null,
            "visibility": null,
            "width": null
          }
        },
        "954a8f78e5d24b5880a66b444f69e0a0": {
          "model_module": "@jupyter-widgets/controls",
          "model_name": "DescriptionStyleModel",
          "model_module_version": "1.5.0",
          "state": {
            "_model_module": "@jupyter-widgets/controls",
            "_model_module_version": "1.5.0",
            "_model_name": "DescriptionStyleModel",
            "_view_count": null,
            "_view_module": "@jupyter-widgets/base",
            "_view_module_version": "1.2.0",
            "_view_name": "StyleView",
            "description_width": ""
          }
        },
        "2c1e378b31bd4d9a96a7a41afdf10f20": {
          "model_module": "@jupyter-widgets/base",
          "model_name": "LayoutModel",
          "model_module_version": "1.2.0",
          "state": {
            "_model_module": "@jupyter-widgets/base",
            "_model_module_version": "1.2.0",
            "_model_name": "LayoutModel",
            "_view_count": null,
            "_view_module": "@jupyter-widgets/base",
            "_view_module_version": "1.2.0",
            "_view_name": "LayoutView",
            "align_content": null,
            "align_items": null,
            "align_self": null,
            "border": null,
            "bottom": null,
            "display": null,
            "flex": null,
            "flex_flow": null,
            "grid_area": null,
            "grid_auto_columns": null,
            "grid_auto_flow": null,
            "grid_auto_rows": null,
            "grid_column": null,
            "grid_gap": null,
            "grid_row": null,
            "grid_template_areas": null,
            "grid_template_columns": null,
            "grid_template_rows": null,
            "height": null,
            "justify_content": null,
            "justify_items": null,
            "left": null,
            "margin": null,
            "max_height": null,
            "max_width": null,
            "min_height": null,
            "min_width": null,
            "object_fit": null,
            "object_position": null,
            "order": null,
            "overflow": null,
            "overflow_x": null,
            "overflow_y": null,
            "padding": null,
            "right": null,
            "top": null,
            "visibility": null,
            "width": null
          }
        },
        "71f9cfffc05746938c84122094353b02": {
          "model_module": "@jupyter-widgets/controls",
          "model_name": "ProgressStyleModel",
          "model_module_version": "1.5.0",
          "state": {
            "_model_module": "@jupyter-widgets/controls",
            "_model_module_version": "1.5.0",
            "_model_name": "ProgressStyleModel",
            "_view_count": null,
            "_view_module": "@jupyter-widgets/base",
            "_view_module_version": "1.2.0",
            "_view_name": "StyleView",
            "bar_color": null,
            "description_width": ""
          }
        },
        "d262e1b344414a9d965d226400636318": {
          "model_module": "@jupyter-widgets/base",
          "model_name": "LayoutModel",
          "model_module_version": "1.2.0",
          "state": {
            "_model_module": "@jupyter-widgets/base",
            "_model_module_version": "1.2.0",
            "_model_name": "LayoutModel",
            "_view_count": null,
            "_view_module": "@jupyter-widgets/base",
            "_view_module_version": "1.2.0",
            "_view_name": "LayoutView",
            "align_content": null,
            "align_items": null,
            "align_self": null,
            "border": null,
            "bottom": null,
            "display": null,
            "flex": null,
            "flex_flow": null,
            "grid_area": null,
            "grid_auto_columns": null,
            "grid_auto_flow": null,
            "grid_auto_rows": null,
            "grid_column": null,
            "grid_gap": null,
            "grid_row": null,
            "grid_template_areas": null,
            "grid_template_columns": null,
            "grid_template_rows": null,
            "height": null,
            "justify_content": null,
            "justify_items": null,
            "left": null,
            "margin": null,
            "max_height": null,
            "max_width": null,
            "min_height": null,
            "min_width": null,
            "object_fit": null,
            "object_position": null,
            "order": null,
            "overflow": null,
            "overflow_x": null,
            "overflow_y": null,
            "padding": null,
            "right": null,
            "top": null,
            "visibility": null,
            "width": null
          }
        },
        "b596091786794e62826ade6a8713f3db": {
          "model_module": "@jupyter-widgets/controls",
          "model_name": "DescriptionStyleModel",
          "model_module_version": "1.5.0",
          "state": {
            "_model_module": "@jupyter-widgets/controls",
            "_model_module_version": "1.5.0",
            "_model_name": "DescriptionStyleModel",
            "_view_count": null,
            "_view_module": "@jupyter-widgets/base",
            "_view_module_version": "1.2.0",
            "_view_name": "StyleView",
            "description_width": ""
          }
        },
        "6e3d6d9920a2480caaaae3dde9b61c9f": {
          "model_module": "@jupyter-widgets/controls",
          "model_name": "HBoxModel",
          "model_module_version": "1.5.0",
          "state": {
            "_dom_classes": [],
            "_model_module": "@jupyter-widgets/controls",
            "_model_module_version": "1.5.0",
            "_model_name": "HBoxModel",
            "_view_count": null,
            "_view_module": "@jupyter-widgets/controls",
            "_view_module_version": "1.5.0",
            "_view_name": "HBoxView",
            "box_style": "",
            "children": [
              "IPY_MODEL_9f8ef9e2e8cd472d930cd3b435f5170e",
              "IPY_MODEL_78eb02a1250d40b0badbc41e1b144949",
              "IPY_MODEL_4714a98a0a0e49baba7ad90f5b24cc88"
            ],
            "layout": "IPY_MODEL_18d6392d56b44d88bd94f6a666290e96"
          }
        },
        "9f8ef9e2e8cd472d930cd3b435f5170e": {
          "model_module": "@jupyter-widgets/controls",
          "model_name": "HTMLModel",
          "model_module_version": "1.5.0",
          "state": {
            "_dom_classes": [],
            "_model_module": "@jupyter-widgets/controls",
            "_model_module_version": "1.5.0",
            "_model_name": "HTMLModel",
            "_view_count": null,
            "_view_module": "@jupyter-widgets/controls",
            "_view_module_version": "1.5.0",
            "_view_name": "HTMLView",
            "description": "",
            "description_tooltip": null,
            "layout": "IPY_MODEL_375964b06af841bf986fc293678a7838",
            "placeholder": "​",
            "style": "IPY_MODEL_7753ccb8441349e38dbdbe9e9234acb5",
            "value": "Retrieving SummaryDoc documents: 100%"
          }
        },
        "78eb02a1250d40b0badbc41e1b144949": {
          "model_module": "@jupyter-widgets/controls",
          "model_name": "FloatProgressModel",
          "model_module_version": "1.5.0",
          "state": {
            "_dom_classes": [],
            "_model_module": "@jupyter-widgets/controls",
            "_model_module_version": "1.5.0",
            "_model_name": "FloatProgressModel",
            "_view_count": null,
            "_view_module": "@jupyter-widgets/controls",
            "_view_module_version": "1.5.0",
            "_view_name": "ProgressView",
            "bar_style": "success",
            "description": "",
            "description_tooltip": null,
            "layout": "IPY_MODEL_65338d99e5b240608c939f28c5256d95",
            "max": 21576,
            "min": 0,
            "orientation": "horizontal",
            "style": "IPY_MODEL_63bd6e49c8cc4a28aa2be4379d25c60b",
            "value": 21576
          }
        },
        "4714a98a0a0e49baba7ad90f5b24cc88": {
          "model_module": "@jupyter-widgets/controls",
          "model_name": "HTMLModel",
          "model_module_version": "1.5.0",
          "state": {
            "_dom_classes": [],
            "_model_module": "@jupyter-widgets/controls",
            "_model_module_version": "1.5.0",
            "_model_name": "HTMLModel",
            "_view_count": null,
            "_view_module": "@jupyter-widgets/controls",
            "_view_module_version": "1.5.0",
            "_view_name": "HTMLView",
            "description": "",
            "description_tooltip": null,
            "layout": "IPY_MODEL_932162a088f04491bf35e39bcaed0c44",
            "placeholder": "​",
            "style": "IPY_MODEL_272f918fdb3d41b38a877de1f3b22897",
            "value": " 21576/21576 [01:27&lt;00:00, 432.17it/s]"
          }
        },
        "18d6392d56b44d88bd94f6a666290e96": {
          "model_module": "@jupyter-widgets/base",
          "model_name": "LayoutModel",
          "model_module_version": "1.2.0",
          "state": {
            "_model_module": "@jupyter-widgets/base",
            "_model_module_version": "1.2.0",
            "_model_name": "LayoutModel",
            "_view_count": null,
            "_view_module": "@jupyter-widgets/base",
            "_view_module_version": "1.2.0",
            "_view_name": "LayoutView",
            "align_content": null,
            "align_items": null,
            "align_self": null,
            "border": null,
            "bottom": null,
            "display": null,
            "flex": null,
            "flex_flow": null,
            "grid_area": null,
            "grid_auto_columns": null,
            "grid_auto_flow": null,
            "grid_auto_rows": null,
            "grid_column": null,
            "grid_gap": null,
            "grid_row": null,
            "grid_template_areas": null,
            "grid_template_columns": null,
            "grid_template_rows": null,
            "height": null,
            "justify_content": null,
            "justify_items": null,
            "left": null,
            "margin": null,
            "max_height": null,
            "max_width": null,
            "min_height": null,
            "min_width": null,
            "object_fit": null,
            "object_position": null,
            "order": null,
            "overflow": null,
            "overflow_x": null,
            "overflow_y": null,
            "padding": null,
            "right": null,
            "top": null,
            "visibility": null,
            "width": null
          }
        },
        "375964b06af841bf986fc293678a7838": {
          "model_module": "@jupyter-widgets/base",
          "model_name": "LayoutModel",
          "model_module_version": "1.2.0",
          "state": {
            "_model_module": "@jupyter-widgets/base",
            "_model_module_version": "1.2.0",
            "_model_name": "LayoutModel",
            "_view_count": null,
            "_view_module": "@jupyter-widgets/base",
            "_view_module_version": "1.2.0",
            "_view_name": "LayoutView",
            "align_content": null,
            "align_items": null,
            "align_self": null,
            "border": null,
            "bottom": null,
            "display": null,
            "flex": null,
            "flex_flow": null,
            "grid_area": null,
            "grid_auto_columns": null,
            "grid_auto_flow": null,
            "grid_auto_rows": null,
            "grid_column": null,
            "grid_gap": null,
            "grid_row": null,
            "grid_template_areas": null,
            "grid_template_columns": null,
            "grid_template_rows": null,
            "height": null,
            "justify_content": null,
            "justify_items": null,
            "left": null,
            "margin": null,
            "max_height": null,
            "max_width": null,
            "min_height": null,
            "min_width": null,
            "object_fit": null,
            "object_position": null,
            "order": null,
            "overflow": null,
            "overflow_x": null,
            "overflow_y": null,
            "padding": null,
            "right": null,
            "top": null,
            "visibility": null,
            "width": null
          }
        },
        "7753ccb8441349e38dbdbe9e9234acb5": {
          "model_module": "@jupyter-widgets/controls",
          "model_name": "DescriptionStyleModel",
          "model_module_version": "1.5.0",
          "state": {
            "_model_module": "@jupyter-widgets/controls",
            "_model_module_version": "1.5.0",
            "_model_name": "DescriptionStyleModel",
            "_view_count": null,
            "_view_module": "@jupyter-widgets/base",
            "_view_module_version": "1.2.0",
            "_view_name": "StyleView",
            "description_width": ""
          }
        },
        "65338d99e5b240608c939f28c5256d95": {
          "model_module": "@jupyter-widgets/base",
          "model_name": "LayoutModel",
          "model_module_version": "1.2.0",
          "state": {
            "_model_module": "@jupyter-widgets/base",
            "_model_module_version": "1.2.0",
            "_model_name": "LayoutModel",
            "_view_count": null,
            "_view_module": "@jupyter-widgets/base",
            "_view_module_version": "1.2.0",
            "_view_name": "LayoutView",
            "align_content": null,
            "align_items": null,
            "align_self": null,
            "border": null,
            "bottom": null,
            "display": null,
            "flex": null,
            "flex_flow": null,
            "grid_area": null,
            "grid_auto_columns": null,
            "grid_auto_flow": null,
            "grid_auto_rows": null,
            "grid_column": null,
            "grid_gap": null,
            "grid_row": null,
            "grid_template_areas": null,
            "grid_template_columns": null,
            "grid_template_rows": null,
            "height": null,
            "justify_content": null,
            "justify_items": null,
            "left": null,
            "margin": null,
            "max_height": null,
            "max_width": null,
            "min_height": null,
            "min_width": null,
            "object_fit": null,
            "object_position": null,
            "order": null,
            "overflow": null,
            "overflow_x": null,
            "overflow_y": null,
            "padding": null,
            "right": null,
            "top": null,
            "visibility": null,
            "width": null
          }
        },
        "63bd6e49c8cc4a28aa2be4379d25c60b": {
          "model_module": "@jupyter-widgets/controls",
          "model_name": "ProgressStyleModel",
          "model_module_version": "1.5.0",
          "state": {
            "_model_module": "@jupyter-widgets/controls",
            "_model_module_version": "1.5.0",
            "_model_name": "ProgressStyleModel",
            "_view_count": null,
            "_view_module": "@jupyter-widgets/base",
            "_view_module_version": "1.2.0",
            "_view_name": "StyleView",
            "bar_color": null,
            "description_width": ""
          }
        },
        "932162a088f04491bf35e39bcaed0c44": {
          "model_module": "@jupyter-widgets/base",
          "model_name": "LayoutModel",
          "model_module_version": "1.2.0",
          "state": {
            "_model_module": "@jupyter-widgets/base",
            "_model_module_version": "1.2.0",
            "_model_name": "LayoutModel",
            "_view_count": null,
            "_view_module": "@jupyter-widgets/base",
            "_view_module_version": "1.2.0",
            "_view_name": "LayoutView",
            "align_content": null,
            "align_items": null,
            "align_self": null,
            "border": null,
            "bottom": null,
            "display": null,
            "flex": null,
            "flex_flow": null,
            "grid_area": null,
            "grid_auto_columns": null,
            "grid_auto_flow": null,
            "grid_auto_rows": null,
            "grid_column": null,
            "grid_gap": null,
            "grid_row": null,
            "grid_template_areas": null,
            "grid_template_columns": null,
            "grid_template_rows": null,
            "height": null,
            "justify_content": null,
            "justify_items": null,
            "left": null,
            "margin": null,
            "max_height": null,
            "max_width": null,
            "min_height": null,
            "min_width": null,
            "object_fit": null,
            "object_position": null,
            "order": null,
            "overflow": null,
            "overflow_x": null,
            "overflow_y": null,
            "padding": null,
            "right": null,
            "top": null,
            "visibility": null,
            "width": null
          }
        },
        "272f918fdb3d41b38a877de1f3b22897": {
          "model_module": "@jupyter-widgets/controls",
          "model_name": "DescriptionStyleModel",
          "model_module_version": "1.5.0",
          "state": {
            "_model_module": "@jupyter-widgets/controls",
            "_model_module_version": "1.5.0",
            "_model_name": "DescriptionStyleModel",
            "_view_count": null,
            "_view_module": "@jupyter-widgets/base",
            "_view_module_version": "1.2.0",
            "_view_name": "StyleView",
            "description_width": ""
          }
        }
      }
    }
  },
  "cells": [
    {
      "cell_type": "code",
      "execution_count": null,
      "metadata": {
        "colab": {
          "base_uri": "https://localhost:8080/"
        },
        "id": "tthCW2i0Qh2v",
        "outputId": "6ba31b48-ce5a-4075-a128-51176d8685e5"
      },
      "outputs": [
        {
          "output_type": "stream",
          "name": "stdout",
          "text": [
            "Requirement already satisfied: mp_api in /usr/local/lib/python3.10/dist-packages (0.33.3)\n",
            "Requirement already satisfied: setuptools in /usr/local/lib/python3.10/dist-packages (from mp_api) (67.7.2)\n",
            "Requirement already satisfied: msgpack in /usr/local/lib/python3.10/dist-packages (from mp_api) (1.0.5)\n",
            "Requirement already satisfied: pymatgen>=2022.3.7 in /usr/local/lib/python3.10/dist-packages (from mp_api) (2023.6.28)\n",
            "Requirement already satisfied: typing-extensions>=3.7.4.1 in /usr/local/lib/python3.10/dist-packages (from mp_api) (4.6.3)\n",
            "Requirement already satisfied: requests>=2.23.0 in /usr/local/lib/python3.10/dist-packages (from mp_api) (2.27.1)\n",
            "Requirement already satisfied: monty>=2021.3.12 in /usr/local/lib/python3.10/dist-packages (from mp_api) (2023.5.8)\n",
            "Requirement already satisfied: emmet-core>=0.54.0 in /usr/local/lib/python3.10/dist-packages (from mp_api) (0.60.1)\n",
            "Requirement already satisfied: pydantic<2.0,>=1.10.2 in /usr/local/lib/python3.10/dist-packages (from emmet-core>=0.54.0->mp_api) (1.10.9)\n",
            "Requirement already satisfied: pybtex~=0.24 in /usr/local/lib/python3.10/dist-packages (from emmet-core>=0.54.0->mp_api) (0.24.0)\n",
            "Requirement already satisfied: spglib>=2.0.1 in /usr/local/lib/python3.10/dist-packages (from emmet-core>=0.54.0->mp_api) (2.0.2)\n",
            "Requirement already satisfied: frozendict in /usr/local/lib/python3.10/dist-packages (from pymatgen>=2022.3.7->mp_api) (2.3.8)\n",
            "Requirement already satisfied: matplotlib>=1.5 in /usr/local/lib/python3.10/dist-packages (from pymatgen>=2022.3.7->mp_api) (3.7.1)\n",
            "Requirement already satisfied: networkx>=2.2 in /usr/local/lib/python3.10/dist-packages (from pymatgen>=2022.3.7->mp_api) (3.1)\n",
            "Requirement already satisfied: numpy>=1.20.1 in /usr/local/lib/python3.10/dist-packages (from pymatgen>=2022.3.7->mp_api) (1.22.4)\n",
            "Requirement already satisfied: palettable>=3.1.1 in /usr/local/lib/python3.10/dist-packages (from pymatgen>=2022.3.7->mp_api) (3.3.3)\n",
            "Requirement already satisfied: pandas in /usr/local/lib/python3.10/dist-packages (from pymatgen>=2022.3.7->mp_api) (1.5.3)\n",
            "Requirement already satisfied: plotly>=4.5.0 in /usr/local/lib/python3.10/dist-packages (from pymatgen>=2022.3.7->mp_api) (5.13.1)\n",
            "Requirement already satisfied: ruamel.yaml>=0.17.0 in /usr/local/lib/python3.10/dist-packages (from pymatgen>=2022.3.7->mp_api) (0.17.32)\n",
            "Requirement already satisfied: scipy>=1.5.0 in /usr/local/lib/python3.10/dist-packages (from pymatgen>=2022.3.7->mp_api) (1.10.1)\n",
            "Requirement already satisfied: sympy in /usr/local/lib/python3.10/dist-packages (from pymatgen>=2022.3.7->mp_api) (1.11.1)\n",
            "Requirement already satisfied: tabulate in /usr/local/lib/python3.10/dist-packages (from pymatgen>=2022.3.7->mp_api) (0.8.10)\n",
            "Requirement already satisfied: tqdm in /usr/local/lib/python3.10/dist-packages (from pymatgen>=2022.3.7->mp_api) (4.65.0)\n",
            "Requirement already satisfied: uncertainties>=3.1.4 in /usr/local/lib/python3.10/dist-packages (from pymatgen>=2022.3.7->mp_api) (3.1.7)\n",
            "Requirement already satisfied: urllib3<1.27,>=1.21.1 in /usr/local/lib/python3.10/dist-packages (from requests>=2.23.0->mp_api) (1.26.16)\n",
            "Requirement already satisfied: certifi>=2017.4.17 in /usr/local/lib/python3.10/dist-packages (from requests>=2.23.0->mp_api) (2023.5.7)\n",
            "Requirement already satisfied: charset-normalizer~=2.0.0 in /usr/local/lib/python3.10/dist-packages (from requests>=2.23.0->mp_api) (2.0.12)\n",
            "Requirement already satisfied: idna<4,>=2.5 in /usr/local/lib/python3.10/dist-packages (from requests>=2.23.0->mp_api) (3.4)\n",
            "Requirement already satisfied: contourpy>=1.0.1 in /usr/local/lib/python3.10/dist-packages (from matplotlib>=1.5->pymatgen>=2022.3.7->mp_api) (1.1.0)\n",
            "Requirement already satisfied: cycler>=0.10 in /usr/local/lib/python3.10/dist-packages (from matplotlib>=1.5->pymatgen>=2022.3.7->mp_api) (0.11.0)\n",
            "Requirement already satisfied: fonttools>=4.22.0 in /usr/local/lib/python3.10/dist-packages (from matplotlib>=1.5->pymatgen>=2022.3.7->mp_api) (4.40.0)\n",
            "Requirement already satisfied: kiwisolver>=1.0.1 in /usr/local/lib/python3.10/dist-packages (from matplotlib>=1.5->pymatgen>=2022.3.7->mp_api) (1.4.4)\n",
            "Requirement already satisfied: packaging>=20.0 in /usr/local/lib/python3.10/dist-packages (from matplotlib>=1.5->pymatgen>=2022.3.7->mp_api) (23.1)\n",
            "Requirement already satisfied: pillow>=6.2.0 in /usr/local/lib/python3.10/dist-packages (from matplotlib>=1.5->pymatgen>=2022.3.7->mp_api) (8.4.0)\n",
            "Requirement already satisfied: pyparsing>=2.3.1 in /usr/local/lib/python3.10/dist-packages (from matplotlib>=1.5->pymatgen>=2022.3.7->mp_api) (3.1.0)\n",
            "Requirement already satisfied: python-dateutil>=2.7 in /usr/local/lib/python3.10/dist-packages (from matplotlib>=1.5->pymatgen>=2022.3.7->mp_api) (2.8.2)\n",
            "Requirement already satisfied: tenacity>=6.2.0 in /usr/local/lib/python3.10/dist-packages (from plotly>=4.5.0->pymatgen>=2022.3.7->mp_api) (8.2.2)\n",
            "Requirement already satisfied: PyYAML>=3.01 in /usr/local/lib/python3.10/dist-packages (from pybtex~=0.24->emmet-core>=0.54.0->mp_api) (6.0)\n",
            "Requirement already satisfied: latexcodec>=1.0.4 in /usr/local/lib/python3.10/dist-packages (from pybtex~=0.24->emmet-core>=0.54.0->mp_api) (2.0.1)\n",
            "Requirement already satisfied: six in /usr/local/lib/python3.10/dist-packages (from pybtex~=0.24->emmet-core>=0.54.0->mp_api) (1.16.0)\n",
            "Requirement already satisfied: ruamel.yaml.clib>=0.2.7 in /usr/local/lib/python3.10/dist-packages (from ruamel.yaml>=0.17.0->pymatgen>=2022.3.7->mp_api) (0.2.7)\n",
            "Requirement already satisfied: future in /usr/local/lib/python3.10/dist-packages (from uncertainties>=3.1.4->pymatgen>=2022.3.7->mp_api) (0.18.3)\n",
            "Requirement already satisfied: pytz>=2020.1 in /usr/local/lib/python3.10/dist-packages (from pandas->pymatgen>=2022.3.7->mp_api) (2022.7.1)\n",
            "Requirement already satisfied: mpmath>=0.19 in /usr/local/lib/python3.10/dist-packages (from sympy->pymatgen>=2022.3.7->mp_api) (1.3.0)\n"
          ]
        }
      ],
      "source": [
        "pip install mp_api"
      ]
    },
    {
      "cell_type": "code",
      "source": [
        "from mp_api.client import MPRester\n",
        "\n",
        "with MPRester(\"uGOlcKSyym0To6AY1eNBkdbTKOl2Xg9O\") as mpr:\n",
        "  list_of_available_fields = mpr.summary.available_fields\n",
        "  print(list_of_available_fields)"
      ],
      "metadata": {
        "colab": {
          "base_uri": "https://localhost:8080/"
        },
        "id": "lpBe4EtsRKtA",
        "outputId": "14f74819-6ed1-43e4-ef96-6b2172057e93"
      },
      "execution_count": null,
      "outputs": [
        {
          "output_type": "stream",
          "name": "stderr",
          "text": [
            "/usr/local/lib/python3.10/dist-packages/mp_api/client/mprester.py:182: UserWarning: mpcontribs-client not installed. Install the package to query MPContribs data, or construct pourbaix diagrams: 'pip install mpcontribs-client'\n",
            "  warnings.warn(\n"
          ]
        },
        {
          "output_type": "stream",
          "name": "stdout",
          "text": [
            "['builder_meta', 'nsites', 'elements', 'nelements', 'composition', 'composition_reduced', 'formula_pretty', 'formula_anonymous', 'chemsys', 'volume', 'density', 'density_atomic', 'symmetry', 'property_name', 'material_id', 'deprecated', 'deprecation_reasons', 'last_updated', 'origins', 'warnings', 'structure', 'task_ids', 'uncorrected_energy_per_atom', 'energy_per_atom', 'formation_energy_per_atom', 'energy_above_hull', 'is_stable', 'equilibrium_reaction_energy_per_atom', 'decomposes_to', 'xas', 'grain_boundaries', 'band_gap', 'cbm', 'vbm', 'efermi', 'is_gap_direct', 'is_metal', 'es_source_calc_id', 'bandstructure', 'dos', 'dos_energy_up', 'dos_energy_down', 'is_magnetic', 'ordering', 'total_magnetization', 'total_magnetization_normalized_vol', 'total_magnetization_normalized_formula_units', 'num_magnetic_sites', 'num_unique_magnetic_sites', 'types_of_magnetic_species', 'k_voigt', 'k_reuss', 'k_vrh', 'g_voigt', 'g_reuss', 'g_vrh', 'universal_anisotropy', 'homogeneous_poisson', 'e_total', 'e_ionic', 'e_electronic', 'n', 'e_ij_max', 'weighted_surface_energy_EV_PER_ANG2', 'weighted_surface_energy', 'weighted_work_function', 'surface_anisotropy', 'shape_factor', 'has_reconstructed', 'possible_species', 'has_props', 'theoretical', 'database_IDs']\n"
          ]
        }
      ]
    },
    {
      "cell_type": "code",
      "source": [
        "docs = mpr.summary.search(\n",
        "        elements=[\"Li\"], fields=['nsites', 'elements', 'nelements', 'composition', 'composition_reduced', 'formula_pretty', 'formula_anonymous', 'chemsys', 'volume', 'density', 'density_atomic', 'symmetry', 'structure', 'uncorrected_energy_per_atom', 'energy_per_atom', 'formation_energy_per_atom', 'energy_above_hull', 'equilibrium_reaction_energy_per_atom', 'decomposes_to', 'xas', 'grain_boundaries', 'band_gap', 'cbm', 'vbm', 'efermi', 'es_source_calc_id', 'bandstructure', 'dos', 'dos_energy_up', 'dos_energy_down', 'is_magnetic', 'ordering', 'total_magnetization', 'total_magnetization_normalized_vol', 'total_magnetization_normalized_formula_units', 'num_magnetic_sites', 'num_unique_magnetic_sites', 'types_of_magnetic_species', 'k_voigt', 'k_reuss', 'k_vrh', 'g_voigt', 'g_reuss', 'g_vrh', 'universal_anisotropy', 'homogeneous_poisson', 'e_total', 'e_ionic', 'e_electronic', 'n', 'e_ij_max', 'weighted_surface_energy_EV_PER_ANG2', 'weighted_surface_energy', 'weighted_work_function', 'surface_anisotropy', 'shape_factor']\n",
        "    )"
      ],
      "metadata": {
        "colab": {
          "base_uri": "https://localhost:8080/",
          "height": 49,
          "referenced_widgets": [
            "5e3be6f1d85249fc8d436785cd3930b1",
            "a8d79cefe61149b5826a6f584d9dcba8",
            "52df0e8c59d74c8a99b69a9afc4db156",
            "9470f338509344689888882567e99d78",
            "ab1d9eb521bf44b9910a588d5bdbf54d",
            "aa98756eb29049bc88411086b0e9f39b",
            "704fd4e29cb54daf8f3943de80313cdb",
            "d7dc2268678d41cca8341a092865af2a",
            "1b86a464bdf54284ac20dcfe6b2fa611",
            "a56043d48b2845b9a8be6f1adb31fd36",
            "a9c38ea6db9242ebb49828f2d5dbcb2c"
          ]
        },
        "id": "0rO0pNamR1lb",
        "outputId": "924a8ad3-54e5-44d5-feb8-0da9547e33f1"
      },
      "execution_count": null,
      "outputs": [
        {
          "output_type": "display_data",
          "data": {
            "text/plain": [
              "Retrieving SummaryDoc documents:   0%|          | 0/21576 [00:00<?, ?it/s]"
            ],
            "application/vnd.jupyter.widget-view+json": {
              "version_major": 2,
              "version_minor": 0,
              "model_id": "5e3be6f1d85249fc8d436785cd3930b1"
            }
          },
          "metadata": {}
        }
      ]
    },
    {
      "cell_type": "code",
      "source": [
        "import pandas as pd\n",
        "df=pd.DataFrame(docs)\n",
        "df.head"
      ],
      "metadata": {
        "colab": {
          "base_uri": "https://localhost:8080/"
        },
        "id": "YT9edLsOTS51",
        "outputId": "f1f25095-8e58-4d57-dd04-e48d083bfd7d"
      },
      "execution_count": null,
      "outputs": [
        {
          "output_type": "execute_result",
          "data": {
            "text/plain": [
              "<bound method NDFrame.head of                                0  \\\n",
              "0        (material_id, mp-20998)   \n",
              "1      (material_id, mp-1175256)   \n",
              "2       (material_id, mp-850956)   \n",
              "3      (material_id, mp-1176207)   \n",
              "4      (material_id, mp-1175344)   \n",
              "...                          ...   \n",
              "21571   (material_id, mp-559814)   \n",
              "21572   (material_id, mp-772315)   \n",
              "21573    (material_id, mp-25316)   \n",
              "21574     (material_id, mp-3054)   \n",
              "21575   (material_id, mp-540059)   \n",
              "\n",
              "                                                       1  \\\n",
              "0      (structure, [[ 2.47450345 -1.42865846  8.81820...   \n",
              "1      (structure, [[0.28750304 2.76071346 1.40491689...   \n",
              "2      (structure, [[4.4015725 0.        0.       ] L...   \n",
              "3      (structure, [[1.23931216 4.83645773 0.76681948...   \n",
              "4      (structure, [[-0.94458899 -0.11013785 11.22186...   \n",
              "...                                                  ...   \n",
              "21571  (structure, [[1.75693968 0.64151412 1.3278289 ...   \n",
              "21572  (structure, [[1.71060377 0.74583278 1.24058159...   \n",
              "21573  (structure, [[0.         1.648553   2.75282582...   \n",
              "21574  (structure, [[4.2496931  3.10287919 3.34883302...   \n",
              "21575  (structure, [[1.12896653 9.79788247 1.38576342...   \n",
              "\n",
              "                                            2  \\\n",
              "0      (energy_per_atom, -3.0169775833333334)   \n",
              "1      (energy_per_atom, -6.8964930295833335)   \n",
              "2            (energy_per_atom, -8.0438779505)   \n",
              "3         (energy_per_atom, -6.4783023753125)   \n",
              "4       (energy_per_atom, -7.061442607916667)   \n",
              "...                                       ...   \n",
              "21571  (energy_per_atom, -3.9195865956818183)   \n",
              "21572   (energy_per_atom, -7.189467608653847)   \n",
              "21573  (energy_per_atom, -5.6202387174999995)   \n",
              "21574   (energy_per_atom, -6.896536798333333)   \n",
              "21575   (energy_per_atom, -6.809628990769231)   \n",
              "\n",
              "                                                      3  \\\n",
              "0      (formation_energy_per_atom, -0.4745876444444441)   \n",
              "1      (formation_energy_per_atom, -2.0431970477107284)   \n",
              "2      (formation_energy_per_atom, -2.0627130227729884)   \n",
              "3      (formation_energy_per_atom, -1.7847728522144397)   \n",
              "4       (formation_energy_per_atom, -2.122575896999521)   \n",
              "...                                                 ...   \n",
              "21571  (formation_energy_per_atom, -1.2805231525946972)   \n",
              "21572   (formation_energy_per_atom, -2.367038459658488)   \n",
              "21573  (formation_energy_per_atom, -1.2246294752083324)   \n",
              "21574  (formation_energy_per_atom, -2.2487739050694437)   \n",
              "21575   (formation_energy_per_atom, -2.194390751025641)   \n",
              "\n",
              "                                                       4  \n",
              "0      (fields_not_requested, [builder_meta, nsites, ...  \n",
              "1      (fields_not_requested, [builder_meta, nsites, ...  \n",
              "2      (fields_not_requested, [builder_meta, nsites, ...  \n",
              "3      (fields_not_requested, [builder_meta, nsites, ...  \n",
              "4      (fields_not_requested, [builder_meta, nsites, ...  \n",
              "...                                                  ...  \n",
              "21571  (fields_not_requested, [builder_meta, nsites, ...  \n",
              "21572  (fields_not_requested, [builder_meta, nsites, ...  \n",
              "21573  (fields_not_requested, [builder_meta, nsites, ...  \n",
              "21574  (fields_not_requested, [builder_meta, nsites, ...  \n",
              "21575  (fields_not_requested, [builder_meta, nsites, ...  \n",
              "\n",
              "[21576 rows x 5 columns]>"
            ]
          },
          "metadata": {},
          "execution_count": 35
        }
      ]
    },
    {
      "cell_type": "code",
      "source": [
        "df.to_csv(\"Li_mat.csv\")"
      ],
      "metadata": {
        "id": "E2fZzYPETZSF"
      },
      "execution_count": null,
      "outputs": []
    },
    {
      "cell_type": "code",
      "source": [
        "df1=df\n",
        "df.dtypes"
      ],
      "metadata": {
        "colab": {
          "base_uri": "https://localhost:8080/"
        },
        "id": "EtDEeaKlm9kE",
        "outputId": "f9673e53-bf76-4226-be68-f91ef3b32e44"
      },
      "execution_count": null,
      "outputs": [
        {
          "output_type": "execute_result",
          "data": {
            "text/plain": [
              "0     object\n",
              "1     object\n",
              "2     object\n",
              "3     object\n",
              "4     object\n",
              "5     object\n",
              "6     object\n",
              "7     object\n",
              "8     object\n",
              "9     object\n",
              "10    object\n",
              "11    object\n",
              "12    object\n",
              "13    object\n",
              "14    object\n",
              "15    object\n",
              "16    object\n",
              "17    object\n",
              "18    object\n",
              "19    object\n",
              "20    object\n",
              "21    object\n",
              "22    object\n",
              "23    object\n",
              "24    object\n",
              "25    object\n",
              "26    object\n",
              "27    object\n",
              "28    object\n",
              "29    object\n",
              "30    object\n",
              "31    object\n",
              "32    object\n",
              "33    object\n",
              "34    object\n",
              "35    object\n",
              "36    object\n",
              "37    object\n",
              "38    object\n",
              "39    object\n",
              "40    object\n",
              "41    object\n",
              "42    object\n",
              "43    object\n",
              "44    object\n",
              "45    object\n",
              "46    object\n",
              "47    object\n",
              "48    object\n",
              "49    object\n",
              "50    object\n",
              "51    object\n",
              "52    object\n",
              "53    object\n",
              "54    object\n",
              "55    object\n",
              "56    object\n",
              "dtype: object"
            ]
          },
          "metadata": {},
          "execution_count": 16
        }
      ]
    },
    {
      "cell_type": "code",
      "source": [
        "docs1 = mpr.summary.search(\n",
        "        #elements=[\"Li\"],\n",
        "        material_id='mp-101'\n",
        "        fields=['structure'])"
      ],
      "metadata": {
        "colab": {
          "base_uri": "https://localhost:8080/",
          "height": 130
        },
        "id": "sWS7Esk-oAcd",
        "outputId": "c6cd46ae-f896-4134-ce23-43c5bff28aff"
      },
      "execution_count": null,
      "outputs": [
        {
          "output_type": "error",
          "ename": "SyntaxError",
          "evalue": "ignored",
          "traceback": [
            "\u001b[0;36m  File \u001b[0;32m\"<ipython-input-5-98b03a0bfbee>\"\u001b[0;36m, line \u001b[0;32m3\u001b[0m\n\u001b[0;31m    material_id='mp-101'\u001b[0m\n\u001b[0m                ^\u001b[0m\n\u001b[0;31mSyntaxError\u001b[0m\u001b[0;31m:\u001b[0m invalid syntax. Perhaps you forgot a comma?\n"
          ]
        }
      ]
    },
    {
      "cell_type": "code",
      "source": [
        "docs = mpr.summary.search(\n",
        "        elements=[\"Li\"], fields=['material_id','structure','formation_energy_per_atom','energy_per_atom']\n",
        ")"
      ],
      "metadata": {
        "colab": {
          "base_uri": "https://localhost:8080/",
          "height": 49,
          "referenced_widgets": [
            "6e3d6d9920a2480caaaae3dde9b61c9f",
            "9f8ef9e2e8cd472d930cd3b435f5170e",
            "78eb02a1250d40b0badbc41e1b144949",
            "4714a98a0a0e49baba7ad90f5b24cc88",
            "18d6392d56b44d88bd94f6a666290e96",
            "375964b06af841bf986fc293678a7838",
            "7753ccb8441349e38dbdbe9e9234acb5",
            "65338d99e5b240608c939f28c5256d95",
            "63bd6e49c8cc4a28aa2be4379d25c60b",
            "932162a088f04491bf35e39bcaed0c44",
            "272f918fdb3d41b38a877de1f3b22897"
          ]
        },
        "id": "837zN-0c_7l1",
        "outputId": "ea17da12-bb95-4b0c-e8de-e49aebff8fe6"
      },
      "execution_count": null,
      "outputs": [
        {
          "output_type": "display_data",
          "data": {
            "text/plain": [
              "Retrieving SummaryDoc documents:   0%|          | 0/21576 [00:00<?, ?it/s]"
            ],
            "application/vnd.jupyter.widget-view+json": {
              "version_major": 2,
              "version_minor": 0,
              "model_id": "6e3d6d9920a2480caaaae3dde9b61c9f"
            }
          },
          "metadata": {}
        }
      ]
    },
    {
      "cell_type": "code",
      "source": [
        "#to test stuff before applying the entire docs dataset\n",
        "docs1 = mpr.summary.search(\n",
        "        material_ids=[\"mp-103\",\"mp-111\",\"mp-121\",\"mp-11\"], fields=['material_id','structure','formation_energy_per_atom','energy_per_atom']\n",
        ")"
      ],
      "metadata": {
        "colab": {
          "base_uri": "https://localhost:8080/",
          "height": 49,
          "referenced_widgets": [
            "c65201e7efab43d88b7bf607f33991e7",
            "1d518868702d4189a9e563bf40beb6cd",
            "3e8ab6b50a5a401fa347ca2a84cd86b8",
            "dcef8c9545ed4c218fa03d9ab2c698df",
            "692c33ae3ea74f53975c933d7ce45d3c",
            "1c24b481ca8d44b1a26798590cf69e9f",
            "954a8f78e5d24b5880a66b444f69e0a0",
            "2c1e378b31bd4d9a96a7a41afdf10f20",
            "71f9cfffc05746938c84122094353b02",
            "d262e1b344414a9d965d226400636318",
            "b596091786794e62826ade6a8713f3db"
          ]
        },
        "id": "x-BTxSt0N_bm",
        "outputId": "da9f19aa-0a15-4038-e368-fc1a75d43be7"
      },
      "execution_count": null,
      "outputs": [
        {
          "output_type": "display_data",
          "data": {
            "text/plain": [
              "Retrieving SummaryDoc documents:   0%|          | 0/3 [00:00<?, ?it/s]"
            ],
            "application/vnd.jupyter.widget-view+json": {
              "version_major": 2,
              "version_minor": 0,
              "model_id": "c65201e7efab43d88b7bf607f33991e7"
            }
          },
          "metadata": {}
        }
      ]
    },
    {
      "cell_type": "code",
      "source": [
        "import json\n",
        "import csv\n",
        "\n",
        "with open('matprop.csv', mode='w') as matprop:\n",
        "  fieldnames = ['id','target']\n",
        "  writer = csv.DictWriter(matprop, fieldnames=fieldnames)\n",
        "  writer.writeheader()\n",
        "\n",
        "matprop.close()"
      ],
      "metadata": {
        "id": "YZUynIxzYVA6"
      },
      "execution_count": null,
      "outputs": []
    },
    {
      "cell_type": "code",
      "source": [
        "import os\n",
        "os.mkdir('/content/new_data1')"
      ],
      "metadata": {
        "id": "iUBVd7bpztRz"
      },
      "execution_count": null,
      "outputs": []
    },
    {
      "cell_type": "code",
      "source": [
        "count = 0\n",
        "L = []\n",
        "\n",
        "with open('matprop.csv', mode='w') as matprop:\n",
        "  for doc in docs:\n",
        "    structure = doc.structure\n",
        "    material_id = doc.material_id\n",
        "    formation_energy_per_atom=doc.formation_energy_per_atom\n",
        "    energy_per_atom = doc.energy_per_atom\n",
        "    structure.to(\"POSCAR\",\"Li_poscar\")\n",
        "    with open(\"POSCAR\",mode='r') as f:\n",
        "      if f.closed:\n",
        "        print('f is closed')\n",
        "      if matprop.closed:\n",
        "        print('matprop is closed')\n",
        "      #writer.writerow({'poscar_struc':f.read()})\n",
        "      #print(f.read())\n",
        "      #df_pascar.ix['structure','doc']=str(f.read())\n",
        "      L.append(str(f.read()))\n",
        "    count = count+1\n",
        "print(count)\n",
        "\n",
        "df = pd.DataFrame(L, columns=['structure'])"
      ],
      "metadata": {
        "id": "teXpR18aE31N",
        "colab": {
          "base_uri": "https://localhost:8080/"
        },
        "outputId": "dfc47ffc-0b94-4c6d-9160-76c0e01c99c0"
      },
      "execution_count": null,
      "outputs": [
        {
          "output_type": "stream",
          "name": "stdout",
          "text": [
            "21576\n"
          ]
        }
      ]
    },
    {
      "cell_type": "code",
      "source": [
        "'''\n",
        "count = 0\n",
        "poscar_name = \"\"\n",
        "\n",
        "f = open('matprop.csv', mode='w')\n",
        "for doc in docs:\n",
        "    structure = doc.structure\n",
        "    material_id = doc.material_id\n",
        "    formation_energy_per_atom=doc.formation_energy_per_atom\n",
        "    energy_per_atom = doc.energy_per_atom\n",
        "\n",
        "    Id=material_id\n",
        "    poscar_name = \"POSCAR-\" + str(count) + \".vasp\"\n",
        "    target = formation_energy_per_atom\n",
        "\n",
        "    f.write(\"%s,%6f\\n\" % (poscar_name, target))\n",
        "    structure.to(poscar_name, \"/new_data1/\")\n",
        "\n",
        "    with open(\"POSCAR\",mode='r') as f:\n",
        "      if f.closed:\n",
        "        print('f is closed')\n",
        "      if matprop.closed:\n",
        "        print('matprop is closed')\n",
        "      #writer.writerow({'poscar_struc':f.read()})\n",
        "      #print(f.read())\n",
        "      #df_pascar.ix['structure','doc']=str(f.read())\n",
        "      #L.append(str(f.read()))\n",
        "    count = count+1\n",
        "f.close()\n",
        "print(count)\n",
        "'''"
      ],
      "metadata": {
        "colab": {
          "base_uri": "https://localhost:8080/",
          "height": 120
        },
        "id": "pcKfDY_Nz53C",
        "outputId": "8e8c83b3-50b3-49a4-d4c2-ef09280dd631"
      },
      "execution_count": 1,
      "outputs": [
        {
          "output_type": "execute_result",
          "data": {
            "text/plain": [
              "'\\ncount = 0\\nposcar_name = \"\"\\n\\nf = open(\\'matprop.csv\\', mode=\\'w\\')\\nfor doc in docs:\\n    structure = doc.structure\\n    material_id = doc.material_id\\n    formation_energy_per_atom=doc.formation_energy_per_atom\\n    energy_per_atom = doc.energy_per_atom\\n\\n    Id=material_id\\n    poscar_name = \"POSCAR-\" + str(count) + \".vasp\"\\n    target = formation_energy_per_atom\\n\\n    f.write(\"%s,%6f\\n\" % (poscar_name, target))\\n    structure.to(poscar_name, \"/new_data1/\")\\n\\n    with open(\"POSCAR\",mode=\\'r\\') as f:\\n      if f.closed:\\n        print(\\'f is closed\\')\\n      if matprop.closed:\\n        print(\\'matprop is closed\\')\\n      #writer.writerow({\\'poscar_struc\\':f.read()})\\n      #print(f.read())\\n      #df_pascar.ix[\\'structure\\',\\'doc\\']=str(f.read())\\n      #L.append(str(f.read()))\\n    count = count+1\\nf.close()\\nprint(count)\\n'"
            ],
            "application/vnd.google.colaboratory.intrinsic+json": {
              "type": "string"
            }
          },
          "metadata": {},
          "execution_count": 1
        }
      ]
    },
    {
      "cell_type": "code",
      "source": [
        "print(df)"
      ],
      "metadata": {
        "colab": {
          "base_uri": "https://localhost:8080/"
        },
        "id": "xGn6e_lhhuCo",
        "outputId": "f57ae973-67bc-4eba-e228-eb7ae83a4446"
      },
      "execution_count": null,
      "outputs": [
        {
          "output_type": "stream",
          "name": "stdout",
          "text": [
            "                                               structure\n",
            "0      Li3 Ca3 Pb3\\n1.0\\n   2.4745034499999998   -4.2...\n",
            "1      Li7 Mn4 Co1 O12\\n1.0\\n   2.9740310000000001   ...\n",
            "2      Li2 Mn3 Cr3 O12\\n1.0\\n   8.8031450000000007   ...\n",
            "3      Li9 Mn2 Co5 O16\\n1.0\\n   3.0155449999999999   ...\n",
            "4      Li7 Mn5 O12\\n1.0\\n   2.9906130000000002    0.0...\n",
            "...                                                  ...\n",
            "21571  Li2 Fe2 P2 O8\\n1.0\\n   0.2036550000000000   -0...\n",
            "21572  Li7 Ti5 Mn12 O32\\n1.0\\n  -5.9213170000000002  ...\n",
            "21573  Li12 Mn2 Fe10 B12 O36\\n1.0\\n   8.2436439999999...\n",
            "21574  Li9 Co7 O16\\n1.0\\n   5.6118121299999997   -0.0...\n",
            "21575  Li15 Re3 O18\\n1.0\\n   2.5068616200000000   -4....\n",
            "\n",
            "[21576 rows x 1 columns]\n"
          ]
        }
      ]
    },
    {
      "cell_type": "code",
      "source": [
        "df_og=pd.DataFrame(docs)\n",
        "print(df_og)"
      ],
      "metadata": {
        "colab": {
          "base_uri": "https://localhost:8080/"
        },
        "id": "-oH6xMH-jr5j",
        "outputId": "6c255e4c-6978-44ad-f25d-722843db0408"
      },
      "execution_count": null,
      "outputs": [
        {
          "output_type": "stream",
          "name": "stdout",
          "text": [
            "                               0  \\\n",
            "0        (material_id, mp-20998)   \n",
            "1      (material_id, mp-1175256)   \n",
            "2       (material_id, mp-850956)   \n",
            "3      (material_id, mp-1176207)   \n",
            "4      (material_id, mp-1175344)   \n",
            "...                          ...   \n",
            "21571  (material_id, mp-1104261)   \n",
            "21572   (material_id, mp-771056)   \n",
            "21573   (material_id, mp-779627)   \n",
            "21574  (material_id, mp-1175419)   \n",
            "21575   (material_id, mp-554540)   \n",
            "\n",
            "                                                       1  \\\n",
            "0      (structure, [[ 2.47450345 -1.42865846  8.81820...   \n",
            "1      (structure, [[0.28750304 2.76071346 1.40491689...   \n",
            "2      (structure, [[4.4015725 0.        0.       ] L...   \n",
            "3      (structure, [[1.23931216 4.83645773 0.76681948...   \n",
            "4      (structure, [[-0.94458899 -0.11013785 11.22186...   \n",
            "...                                                  ...   \n",
            "21571  (structure, [[0.38405894 4.52695373 1.89436043...   \n",
            "21572  (structure, [[ -1.67884893   1.82006253 -19.09...   \n",
            "21573  (structure, [[ 9.3897295   2.18338265 10.98448...   \n",
            "21574  (structure, [[ 2.07237355 -0.62696739 -6.39644...   \n",
            "21575  (structure, [[ 2.50679079 -2.41196125  4.68845...   \n",
            "\n",
            "                                            2  \\\n",
            "0      (energy_per_atom, -3.0169775833333334)   \n",
            "1      (energy_per_atom, -6.8964930295833335)   \n",
            "2            (energy_per_atom, -8.0438779505)   \n",
            "3         (energy_per_atom, -6.4783023753125)   \n",
            "4       (energy_per_atom, -7.061442607916667)   \n",
            "...                                       ...   \n",
            "21571   (energy_per_atom, -7.460702974999999)   \n",
            "21572   (energy_per_atom, -8.191881359642858)   \n",
            "21573   (energy_per_atom, -7.693244676111111)   \n",
            "21574     (energy_per_atom, -6.3197928959375)   \n",
            "21575   (energy_per_atom, -6.614740818611112)   \n",
            "\n",
            "                                                      3  \\\n",
            "0      (formation_energy_per_atom, -0.4745876444444441)   \n",
            "1      (formation_energy_per_atom, -2.0431970477107284)   \n",
            "2      (formation_energy_per_atom, -2.0627130227729884)   \n",
            "3      (formation_energy_per_atom, -1.7847728522144397)   \n",
            "4       (formation_energy_per_atom, -2.122575896999521)   \n",
            "...                                                 ...   \n",
            "21571   (formation_energy_per_atom, -2.377988485238095)   \n",
            "21572  (formation_energy_per_atom, -2.4583431022352227)   \n",
            "21573  (formation_energy_per_atom, -2.3576222880675286)   \n",
            "21574  (formation_energy_per_atom, -1.7546194664062504)   \n",
            "21575  (formation_energy_per_atom, -2.3089680031250004)   \n",
            "\n",
            "                                                       4  \n",
            "0      (fields_not_requested, [builder_meta, nsites, ...  \n",
            "1      (fields_not_requested, [builder_meta, nsites, ...  \n",
            "2      (fields_not_requested, [builder_meta, nsites, ...  \n",
            "3      (fields_not_requested, [builder_meta, nsites, ...  \n",
            "4      (fields_not_requested, [builder_meta, nsites, ...  \n",
            "...                                                  ...  \n",
            "21571  (fields_not_requested, [builder_meta, nsites, ...  \n",
            "21572  (fields_not_requested, [builder_meta, nsites, ...  \n",
            "21573  (fields_not_requested, [builder_meta, nsites, ...  \n",
            "21574  (fields_not_requested, [builder_meta, nsites, ...  \n",
            "21575  (fields_not_requested, [builder_meta, nsites, ...  \n",
            "\n",
            "[21576 rows x 5 columns]\n"
          ]
        }
      ]
    },
    {
      "cell_type": "code",
      "source": [
        "df.to_excel(\"PASCAR_data.xlsx\")\n",
        "df_og.to_excel(\"PASCAR_data_og.xlsx\")"
      ],
      "metadata": {
        "id": "_PWEBs2dkAM0"
      },
      "execution_count": null,
      "outputs": []
    }
  ]
}